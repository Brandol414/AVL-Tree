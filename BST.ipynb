{
 "cells": [
  {
   "cell_type": "markdown",
   "id": "98db5366",
   "metadata": {},
   "source": [
    "# AVL Tree Implementation\n",
    "\n",
    "## Algorithm/Data Structure\n",
    "\n",
    "For this project, I selected the **Binary Search Tree (BST)**, a foundational data structure studied in class. A BST organizes elements hierarchically, enabling efficient search, insertion, and deletion operations—ideally with an average-case time complexity of **O(log n)** when balanced. However, a classic BST does **not self-balance**, and under skewed insertions (e.g., inserting sorted values), the structure degrades into a linear chain with **O(n)** time complexity.\n",
    "\n",
    "---\n",
    "\n",
    "## Identified Drawback and Implementation\n",
    "\n",
    "The implementation detail I explored, which was not covered in class, is the **self-balancing mechanism of an AVL Tree**. An **AVL Tree** is a self-balancing BST that maintains a balance factor (height difference between left and right subtrees) of -1, 0, or +1 at every node. When this balance factor goes out of range due to insertion or deletion, AVL trees automatically perform **rotations** to rebalance themselves.\n",
    "\n",
    "This balancing ensures **O(log n)** time complexity for search, insertion, and deletion, regardless of the input sequence. The implementation addresses the core limitation of standard BSTs by integrating four types of rotations: **Left-Left (LL), Right-Right (RR), Left-Right (LR), and Right-Left (RL)**.\n",
    "\n",
    "---\n",
    "\n",
    "## Implementation\n",
    "\n",
    "The code is implemented in **Python** with the following key components:\n",
    "\n",
    "### `AVLNode` Class\n",
    "\n",
    "Defines each node in the tree with:\n",
    "\n",
    "- `key`: the node's value.\n",
    "- `left`, `right`: pointers to child nodes.\n",
    "- `height`: used for balance checking.\n",
    "\n",
    "### `AVLTree` Class\n",
    "\n",
    "Handles the tree logic, including insertion, height updating, and rebalancing.\n",
    "\n",
    "#### Helper Methods\n",
    "\n",
    "- `get_height(node)`: Returns the height of a node or 0 if `None`.\n",
    "- `get_balance(node)`: Computes the balance factor as `height(left) - height(right)`.\n",
    "- `update_height(node)`: Updates the node height based on child heights.\n",
    "- `right_rotate(z)` / `left_rotate(z)`: Performs necessary AVL rotations.\n",
    "- `inorder_traversal(node)`: Returns a sorted list of keys in the tree (used for correctness checks).\n",
    "- `visualize_tree(node)`: Draws the AVL tree using `networkx` and `matplotlib`.\n",
    "\n",
    "#### `insert(root, key)`\n",
    "\n",
    "- Performs BST insertion recursively.\n",
    "- Updates node heights and balance factors.\n",
    "- Detects imbalances and applies the corresponding rotation (LL, RR, LR, RL).\n",
    "- Returns the updated root after rebalancing.\n",
    "\n",
    "---\n",
    "\n",
    "## Unit Tests and Drawback Resolution\n",
    "\n",
    "Unit testing is done using Python's `unittest` framework to validate correctness and balancing.\n",
    "\n",
    "### Test Case: Mixed Insertions\n",
    "\n",
    "- Inserts the values  \n",
    "  `[10, 20, 30, 40, 50, 25, 5, 4, 3, 35, 45, 60, 55, 70]`,  \n",
    "  which include ascending, descending, and mixed values, simulating realistic and worst-case scenarios for BSTs.\n",
    "\n",
    "- **Height Check**: The tree's height remains logarithmic (≤ 5 for 14 nodes), confirming balancing.\n",
    "- **Correctness Check**: The `inorder_traversal()` returns a sorted list:\n",
    "[3, 4, 5, 10, 20, 25, 30, 35, 40, 45, 50, 55, 60, 70]\n",
    "\n",
    "proving that the AVL tree maintains the **BST invariant** after all rotations and rebalancing operations.\n",
    "\n",
    "These tests validate that the AVL Tree handles diverse inputs while maintaining structure and performance guarantees.\n",
    "\n",
    "---\n",
    "\n",
    "## Visualization\n",
    "\n",
    "After inserting the complete set of elements, the AVL Tree is visualized using `matplotlib` and `networkx`. The diagram shows:\n",
    "\n",
    "- Hierarchical structure post-rotations.\n",
    "- Even distribution of nodes on both sides of the root.\n",
    "- Self-balancing behavior keeping the tree shallow.\n",
    "\n",
    "This visualization offers intuitive confirmation of correctness and balance, and helps debug the internal logic of tree transformations.\n",
    "\n",
    "---\n",
    "---"
   ]
  },
  {
   "cell_type": "markdown",
   "id": "d7c727cb",
   "metadata": {},
   "source": [
    "## Define the Node class"
   ]
  },
  {
   "cell_type": "code",
   "execution_count": 1,
   "id": "ef84b9ee",
   "metadata": {},
   "outputs": [],
   "source": [
    "class AVLNode:\n",
    "    def __init__(self, key):\n",
    "        self.key = key\n",
    "        self.left = None\n",
    "        self.right = None\n",
    "        self.height = 1  # Initial height for a new node"
   ]
  },
  {
   "cell_type": "markdown",
   "id": "13ba538c",
   "metadata": {},
   "source": [
    "## Define the AVLTree class skeleton"
   ]
  },
  {
   "cell_type": "code",
   "execution_count": 12,
   "id": "752f3ac3",
   "metadata": {},
   "outputs": [],
   "source": [
    "class AVLTree:\n",
    "    # Helper method to get the height of a node\n",
    "    def get_height(self, node):\n",
    "        if not node:\n",
    "            return 0\n",
    "        return node.height\n",
    "\n",
    "    # Helper method to get the balance factor\n",
    "    def get_balance(self, node):\n",
    "        if not node:\n",
    "            return 0\n",
    "        return self.get_height(node.left) - self.get_height(node.right)\n",
    "\n",
    "    # Right rotate utility\n",
    "    def right_rotate(self, z):\n",
    "        y = z.left\n",
    "        T3 = y.right\n",
    "\n",
    "        # Perform rotation\n",
    "        y.right = z\n",
    "        z.left = T3\n",
    "\n",
    "        # Update heights\n",
    "        z.height = 1 + max(self.get_height(z.left), self.get_height(z.right))\n",
    "        y.height = 1 + max(self.get_height(y.left), self.get_height(y.right))\n",
    "\n",
    "        return y\n",
    "\n",
    "    # Left rotate utility\n",
    "    def left_rotate(self, z):\n",
    "        y = z.right\n",
    "        T2 = y.left\n",
    "\n",
    "        # Perform rotation\n",
    "        y.left = z\n",
    "        z.right = T2\n",
    "\n",
    "        # Update heights\n",
    "        z.height = 1 + max(self.get_height(z.left), self.get_height(z.right))\n",
    "        y.height = 1 + max(self.get_height(y.left), self.get_height(y.right))\n",
    "\n",
    "        return y"
   ]
  },
  {
   "cell_type": "markdown",
   "id": "91cec1bd",
   "metadata": {},
   "source": [
    "## Insert Method with Balancing Logic"
   ]
  },
  {
   "cell_type": "code",
   "execution_count": 13,
   "id": "a9149b70",
   "metadata": {},
   "outputs": [],
   "source": [
    "# Insertion method with balancing\n",
    "def insert(self, node, key):\n",
    "    # Perform normal BST insertion\n",
    "    if not node:\n",
    "        return AVLNode(key)\n",
    "    elif key < node.key:\n",
    "        node.left = self.insert(node.left, key)\n",
    "    elif key > node.key:\n",
    "        node.right = self.insert(node.right, key)\n",
    "    else:\n",
    "        return node  # Duplicate keys not allowed\n",
    "\n",
    "    # Update height of ancestor node\n",
    "    node.height = 1 + max(self.get_height(node.left), self.get_height(node.right))\n",
    "\n",
    "    # Get balance factor\n",
    "    balance = self.get_balance(node)\n",
    "\n",
    "    # If unbalanced, perform rotations\n",
    "\n",
    "    # Left Left\n",
    "    if balance > 1 and key < node.left.key:\n",
    "        return self.right_rotate(node)\n",
    "\n",
    "    # Right Right\n",
    "    if balance < -1 and key > node.right.key:\n",
    "        return self.left_rotate(node)\n",
    "\n",
    "    # Left Right\n",
    "    if balance > 1 and key > node.left.key:\n",
    "        node.left = self.left_rotate(node.left)\n",
    "        return self.right_rotate(node)\n",
    "\n",
    "    # Right Left\n",
    "    if balance < -1 and key < node.right.key:\n",
    "        node.right = self.right_rotate(node.right)\n",
    "        return self.left_rotate(node)\n",
    "\n",
    "    return node"
   ]
  },
  {
   "cell_type": "markdown",
   "id": "31409a0e",
   "metadata": {},
   "source": [
    "## In-Order Traversal for Testing"
   ]
  },
  {
   "cell_type": "code",
   "execution_count": 18,
   "id": "bc108b77",
   "metadata": {},
   "outputs": [],
   "source": [
    "# Inorder traversal\n",
    "def inorder_traversal(self, root):\n",
    "    result = []\n",
    "    if root:\n",
    "        result += self.inorder_traversal(root.left)\n",
    "        result.append(root.key)\n",
    "        result += self.inorder_traversal(root.right)\n",
    "    return result\n"
   ]
  },
  {
   "cell_type": "markdown",
   "id": "5476dd38",
   "metadata": {},
   "source": [
    "## AVL Rotations\n",
    "\n",
    "To keep the AVL Tree balanced, the following rotations are used:\n",
    "\n",
    "- **Left-Left (LL)**: Single right rotation\n",
    "- **Right-Right (RR)**: Single left rotation\n",
    "- **Left-Right (LR)**: First left rotation on left child, then right rotation\n",
    "- **Right-Left (RL)**: First right rotation on right child, then left rotation\n",
    "\n",
    "### Why Balance Matters\n",
    "Without rebalancing, a BST can degrade into a linked list with O(n) time complexity for operations. AVL rotations restore balance and ensure O(log n) performance.\n"
   ]
  },
  {
   "cell_type": "markdown",
   "id": "a0bec8e9",
   "metadata": {},
   "source": [
    "## Test It"
   ]
  },
  {
   "cell_type": "code",
   "execution_count": 9,
   "id": "e719cfd5",
   "metadata": {},
   "outputs": [
    {
     "name": "stdout",
     "output_type": "stream",
     "text": [
      "Inorder traversal of constructed AVL tree:\n",
      "[3, 4, 5, 10, 20, 25, 30, 35, 40, 45, 50, 55, 60, 70]\n"
     ]
    }
   ],
   "source": [
    "# Instantiate the AVL Tree and test insertions\n",
    "tree = AVLTree()\n",
    "root = None\n",
    "elements = [10, 20, 30, 40, 50, 25, 5, 4, 3, 35, 45, 60, 55, 70]\n",
    "\n",
    "for el in elements:\n",
    "    root = tree.insert(root, el)\n",
    "\n",
    "print(\"Inorder traversal of constructed AVL tree:\")\n",
    "print(tree.inorder_traversal(root))\n"
   ]
  },
  {
   "cell_type": "markdown",
   "id": "76380b39",
   "metadata": {},
   "source": [
    "## Unit Test Implementation"
   ]
  },
  {
   "cell_type": "code",
   "execution_count": 10,
   "id": "972c48dc",
   "metadata": {},
   "outputs": [
    {
     "name": "stderr",
     "output_type": "stream",
     "text": [
      "...\n",
      "----------------------------------------------------------------------\n",
      "Ran 3 tests in 0.030s\n",
      "\n",
      "OK\n"
     ]
    }
   ],
   "source": [
    "import unittest\n",
    "\n",
    "class TestAVLTree(unittest.TestCase):\n",
    "    def setUp(self):\n",
    "        self.tree = AVLTree()\n",
    "        self.root = None\n",
    "\n",
    "    def test_inorder_traversal(self):\n",
    "        elements = [10, 20, 30, 40, 50, 25, 5, 4, 3, 35, 45, 60, 55, 70]\n",
    "        for el in elements:\n",
    "            self.root = self.tree.insert(self.root, el)\n",
    "        traversal = self.tree.inorder_traversal(self.root)\n",
    "        self.assertEqual(traversal, sorted(elements), \"Inorder traversal should return sorted elements.\")\n",
    "\n",
    "    def test_balance_factors(self):\n",
    "        elements = [10, 20, 30, 40, 50, 25, 5, 4, 3, 35, 45, 60, 55, 70]\n",
    "        for el in elements:\n",
    "            self.root = self.tree.insert(self.root, el)\n",
    "\n",
    "        def check_balances(node):\n",
    "            if not node:\n",
    "                return True\n",
    "            balance = self.tree.get_balance(node)\n",
    "            self.assertTrue(-1 <= balance <= 1, f\"Node {node.key} unbalanced with factor {balance}\")\n",
    "            return check_balances(node.left) and check_balances(node.right)\n",
    "\n",
    "        self.assertTrue(check_balances(self.root))\n",
    "\n",
    "    def test_height_logarithmic(self):\n",
    "        # Insert sorted elements which would normally unbalance a BST\n",
    "        sorted_elements = list(range(1, 100))\n",
    "        for el in sorted_elements:\n",
    "            self.root = self.tree.insert(self.root, el)\n",
    "        height = self.tree.get_height(self.root)\n",
    "        # Height of AVL Tree should be ~ log2(n), allow a small buffer\n",
    "        import math\n",
    "        expected_max_height = 1.44 * math.log2(len(sorted_elements) + 1)\n",
    "        self.assertLessEqual(height, expected_max_height,\n",
    "                             f\"Height {height} exceeds expected log-scale {expected_max_height}\")\n",
    "\n",
    "if __name__ == \"__main__\":\n",
    "    unittest.main(argv=[''], exit=False)\n"
   ]
  },
  {
   "cell_type": "markdown",
   "id": "6a0a131d",
   "metadata": {},
   "source": [
    "## AVL Tree Visualization"
   ]
  },
  {
   "cell_type": "code",
   "execution_count": 11,
   "id": "43f2737f",
   "metadata": {},
   "outputs": [
    {
     "data": {
      "image/png": "[encoded data removed]",
      "text/plain": [
       "<Figure size 1200x600 with 1 Axes>"
      ]
     },
     "metadata": {},
     "output_type": "display_data"
    }
   ],
   "source": [
    "import matplotlib.pyplot as plt\n",
    "import networkx as nx\n",
    "\n",
    "class AVLVisualizer:\n",
    "    def __init__(self, tree):\n",
    "        self.tree = tree\n",
    "        self.graph = nx.DiGraph()\n",
    "        self.positions = {}\n",
    "        self.levels = {}\n",
    "\n",
    "    def add_edges(self, node, x=0, y=0, level=1):\n",
    "        if node is None:\n",
    "            return\n",
    "        self.graph.add_node(node.key)\n",
    "        self.positions[node.key] = (x, -y)\n",
    "        self.levels.setdefault(level, []).append(node.key)\n",
    "        offset = 1 / (2 ** level)\n",
    "\n",
    "        if node.left:\n",
    "            self.graph.add_edge(node.key, node.left.key)\n",
    "            self.add_edges(node.left, x - offset, y + 1, level + 1)\n",
    "\n",
    "        if node.right:\n",
    "            self.graph.add_edge(node.key, node.right.key)\n",
    "            self.add_edges(node.right, x + offset, y + 1, level + 1)\n",
    "\n",
    "    def draw(self):\n",
    "        plt.figure(figsize=(12, 6))\n",
    "        nx.draw(self.graph, pos=self.positions, with_labels=True, node_size=1000, node_color=\"lightblue\", font_size=10)\n",
    "        plt.title(\"AVL Tree Structure\")\n",
    "        plt.show()\n",
    "\n",
    "\n",
    "# Usage\n",
    "tree = AVLTree()\n",
    "root = None\n",
    "elements = [10, 20, 30, 40, 50, 25, 5, 4, 3, 35, 45, 60, 55, 70]\n",
    "for el in elements:\n",
    "    root = tree.insert(root, el)\n",
    "\n",
    "visualizer = AVLVisualizer(tree)\n",
    "visualizer.add_edges(root)\n",
    "visualizer.draw()\n"
   ]
  },
  {
   "cell_type": "markdown",
   "id": "a642c2ee",
   "metadata": {},
   "source": [
    "## Conclusion\n",
    "This project implemented the AVL Tree, a self-balancing variant of the Binary Search Tree (BST), to address the performance issues caused by tree imbalance in standard BSTs. While a traditional BST can degrade to O(n) performance with skewed insertions, the AVL Tree maintains O(log n) performance by ensuring the balance factor at each node stays within a defined range. The implementation uses rotations (Left-Left, Right-Right, Left-Right, and Right-Left) to rebalance the tree after each insertion, preserving the tree’s height and ensuring efficient operations.\n",
    "\n",
    "Despite the added complexity in insertion and deletion, the AVL Tree guarantees consistent efficiency, making it ideal for applications like database indexing, search engines, and compilers where performance is critical. The project highlighted the importance of balancing in data structures and demonstrated how these trade-offs improve performance in real-world scenarios."
   ]
  }
 ],
 "metadata": {
  "kernelspec": {
   "display_name": "Python 3",
   "language": "python",
   "name": "python3"
  },
  "language_info": {
   "codemirror_mode": {
    "name": "ipython",
    "version": 3
   },
   "file_extension": ".py",
   "mimetype": "text/x-python",
   "name": "python",
   "nbconvert_exporter": "python",
   "pygments_lexer": "ipython3",
   "version": "3.12.5"
  }
 },
 "nbformat": 4,
 "nbformat_minor": 5
}
